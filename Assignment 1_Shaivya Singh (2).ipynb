{
 "cells": [
  {
   "cell_type": "markdown",
   "metadata": {},
   "source": [
    "# Question 1"
   ]
  },
  {
   "cell_type": "raw",
   "metadata": {},
   "source": [
    "#Given the following jumbled word, OBANWRI guess the correct English word.\n",
    "\n",
    "A. RANIBOW\n",
    "B. RAINBOW\n",
    "C. BOWRANI\n",
    "D. ROBWANI\n",
    "\n",
    "Ans: B. RAINBOW"
   ]
  },
  {
   "cell_type": "markdown",
   "metadata": {},
   "source": [
    "# Question 2"
   ]
  },
  {
   "cell_type": "code",
   "execution_count": 4,
   "metadata": {},
   "outputs": [
    {
     "name": "stdout",
     "output_type": "stream",
     "text": [
      "LETS UPGRADE\n"
     ]
    }
   ],
   "source": [
    "print('LETS UPGRADE') #Write a program which prints “LETS UPGRADE”."
   ]
  },
  {
   "cell_type": "markdown",
   "metadata": {},
   "source": [
    "# Question3"
   ]
  },
  {
   "cell_type": "code",
   "execution_count": 12,
   "metadata": {},
   "outputs": [
    {
     "name": "stdout",
     "output_type": "stream",
     "text": [
      "Enter cost price=20\n",
      "Enter selling price=30\n",
      "profit\n"
     ]
    }
   ],
   "source": [
    "x=input(\"Enter cost price=\") #test case 1\n",
    "y=input(\"Enter selling price=\")\n",
    "\n",
    "if x<y:\n",
    "    print('profit')\n",
    "else:\n",
    "    print('loss')"
   ]
  },
  {
   "cell_type": "code",
   "execution_count": 13,
   "metadata": {},
   "outputs": [
    {
     "name": "stdout",
     "output_type": "stream",
     "text": [
      "Enter cost price=20\n",
      "Enter selling price=10\n",
      "loss\n"
     ]
    }
   ],
   "source": [
    "x=input(\"Enter cost price=\") #test case 2\n",
    "y=input(\"Enter selling price=\")\n",
    "\n",
    "if x<y:\n",
    "    print('profit')\n",
    "else:\n",
    "    print('loss')"
   ]
  },
  {
   "cell_type": "code",
   "execution_count": 31,
   "metadata": {},
   "outputs": [
    {
     "name": "stdout",
     "output_type": "stream",
     "text": [
      "Enter cost price=20\n",
      "Enter selling price=20\n",
      "neither\n"
     ]
    }
   ],
   "source": [
    "x=input(\"Enter cost price=\") #test case 3\n",
    "y=input(\"Enter selling price=\")\n",
    "\n",
    "if x>y:\n",
    "    print('profit')\n",
    "elif x<y:\n",
    "    print('loss')\n",
    "else:\n",
    "    print('neither')"
   ]
  },
  {
   "cell_type": "code",
   "execution_count": 32,
   "metadata": {},
   "outputs": [
    {
     "name": "stdout",
     "output_type": "stream",
     "text": [
      "Enter cost price=19\n",
      "Enter selling price=19\n",
      "neither\n"
     ]
    }
   ],
   "source": [
    "x=input(\"Enter cost price=\") #test case 4\n",
    "y=input(\"Enter selling price=\")\n",
    "\n",
    "if x>y:\n",
    "    print('profit')\n",
    "elif x<y:\n",
    "    print('loss')\n",
    "else:\n",
    "    print('neither')"
   ]
  },
  {
   "cell_type": "code",
   "execution_count": 33,
   "metadata": {},
   "outputs": [
    {
     "name": "stdout",
     "output_type": "stream",
     "text": [
      "Enter cost price=24\n",
      "Enter selling price=7\n",
      "loss\n"
     ]
    }
   ],
   "source": [
    "x=input(\"Enter cost price=\") #test case 5\n",
    "y=input(\"Enter selling price=\")\n",
    "\n",
    "if x>y:\n",
    "    print('profit')\n",
    "elif x<y:\n",
    "    print('loss')\n",
    "else:\n",
    "    print('neither')"
   ]
  },
  {
   "cell_type": "code",
   "execution_count": 36,
   "metadata": {
    "scrolled": true
   },
   "outputs": [
    {
     "name": "stdout",
     "output_type": "stream",
     "text": [
      "Enter cost price=19\n",
      "Enter selling price=95\n",
      "profit\n"
     ]
    }
   ],
   "source": [
    "x=input(\"Enter cost price=\") #test case 6\n",
    "y=input(\"Enter selling price=\")\n",
    "\n",
    "if x<y:\n",
    "    print('profit')\n",
    "else:\n",
    "    print('loss')\n"
   ]
  },
  {
   "cell_type": "markdown",
   "metadata": {},
   "source": [
    "# Question 4"
   ]
  },
  {
   "cell_type": "code",
   "execution_count": 2,
   "metadata": {},
   "outputs": [
    {
     "name": "stdout",
     "output_type": "stream",
     "text": [
      "20\n",
      "80\n",
      "1600\n"
     ]
    }
   ],
   "source": [
    "def calculator(a,b): #sample test case 1\n",
    "    print(a*b)\n",
    "a=int(input())\n",
    "b=int(input())\n",
    "calculator(a,b)"
   ]
  },
  {
   "cell_type": "code",
   "execution_count": null,
   "metadata": {},
   "outputs": [],
   "source": []
  }
 ],
 "metadata": {
  "kernelspec": {
   "display_name": "Python 3",
   "language": "python",
   "name": "python3"
  },
  "language_info": {
   "codemirror_mode": {
    "name": "ipython",
    "version": 3
   },
   "file_extension": ".py",
   "mimetype": "text/x-python",
   "name": "python",
   "nbconvert_exporter": "python",
   "pygments_lexer": "ipython3",
   "version": "3.8.3"
  }
 },
 "nbformat": 4,
 "nbformat_minor": 4
}
